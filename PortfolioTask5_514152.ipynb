{
  "nbformat": 4,
  "nbformat_minor": 0,
  "metadata": {
    "colab": {
      "name": "PortfolioTask5_514152.ipynb",
      "provenance": [],
      "collapsed_sections": []
    },
    "kernelspec": {
      "display_name": "Python 3",
      "language": "python",
      "name": "python3"
    },
    "language_info": {
      "codemirror_mode": {
        "name": "ipython",
        "version": 3
      },
      "file_extension": ".py",
      "mimetype": "text/x-python",
      "name": "python",
      "nbconvert_exporter": "python",
      "pygments_lexer": "ipython3",
      "version": "3.8.5"
    }
  },
  "cells": [
    {
      "cell_type": "markdown",
      "metadata": {
        "id": "gMLSZNPVZAmh"
      },
      "source": [
        "# Portfolio Task 5"
      ]
    },
    {
      "cell_type": "code",
      "metadata": {
        "id": "8162wbu6JMeq"
      },
      "source": [
        "import pandas as pd\n",
        "import numpy as np"
      ],
      "execution_count": 1,
      "outputs": []
    },
    {
      "cell_type": "code",
      "metadata": {
        "colab": {
          "base_uri": "https://localhost:8080/"
        },
        "id": "ck8MkF_0J4iK",
        "outputId": "26bf5b71-56ea-49b7-e4b4-d0b967b01ab9"
      },
      "source": [
        "\n",
        "from google.colab import drive\n",
        "drive.mount('/content/drive')"
      ],
      "execution_count": 2,
      "outputs": [
        {
          "output_type": "stream",
          "text": [
            "Drive already mounted at /content/drive; to attempt to forcibly remount, call drive.mount(\"/content/drive\", force_remount=True).\n"
          ],
          "name": "stdout"
        }
      ]
    },
    {
      "cell_type": "code",
      "metadata": {
        "colab": {
          "base_uri": "https://localhost:8080/",
          "height": 224
        },
        "id": "gU2hNs9jJMex",
        "outputId": "98d52dbf-29bb-4b24-cd17-f32c50f3fbbd"
      },
      "source": [
        "#importing the credit card data set using panda\n",
        "creditcard = pd.read_csv('/content/drive/MyDrive/creditcard.csv')\n",
        "\n",
        "#returning the head of the data set\n",
        "creditcard.head()"
      ],
      "execution_count": 3,
      "outputs": [
        {
          "output_type": "execute_result",
          "data": {
            "text/html": [
              "<div>\n",
              "<style scoped>\n",
              "    .dataframe tbody tr th:only-of-type {\n",
              "        vertical-align: middle;\n",
              "    }\n",
              "\n",
              "    .dataframe tbody tr th {\n",
              "        vertical-align: top;\n",
              "    }\n",
              "\n",
              "    .dataframe thead th {\n",
              "        text-align: right;\n",
              "    }\n",
              "</style>\n",
              "<table border=\"1\" class=\"dataframe\">\n",
              "  <thead>\n",
              "    <tr style=\"text-align: right;\">\n",
              "      <th></th>\n",
              "      <th>Time</th>\n",
              "      <th>V1</th>\n",
              "      <th>V2</th>\n",
              "      <th>V3</th>\n",
              "      <th>V4</th>\n",
              "      <th>V5</th>\n",
              "      <th>V6</th>\n",
              "      <th>V7</th>\n",
              "      <th>V8</th>\n",
              "      <th>V9</th>\n",
              "      <th>V10</th>\n",
              "      <th>V11</th>\n",
              "      <th>V12</th>\n",
              "      <th>V13</th>\n",
              "      <th>V14</th>\n",
              "      <th>V15</th>\n",
              "      <th>V16</th>\n",
              "      <th>V17</th>\n",
              "      <th>V18</th>\n",
              "      <th>V19</th>\n",
              "      <th>V20</th>\n",
              "      <th>V21</th>\n",
              "      <th>V22</th>\n",
              "      <th>V23</th>\n",
              "      <th>V24</th>\n",
              "      <th>V25</th>\n",
              "      <th>V26</th>\n",
              "      <th>V27</th>\n",
              "      <th>V28</th>\n",
              "      <th>Amount</th>\n",
              "      <th>Class</th>\n",
              "    </tr>\n",
              "  </thead>\n",
              "  <tbody>\n",
              "    <tr>\n",
              "      <th>0</th>\n",
              "      <td>0.0</td>\n",
              "      <td>-1.359807</td>\n",
              "      <td>-0.072781</td>\n",
              "      <td>2.536347</td>\n",
              "      <td>1.378155</td>\n",
              "      <td>-0.338321</td>\n",
              "      <td>0.462388</td>\n",
              "      <td>0.239599</td>\n",
              "      <td>0.098698</td>\n",
              "      <td>0.363787</td>\n",
              "      <td>0.090794</td>\n",
              "      <td>-0.551600</td>\n",
              "      <td>-0.617801</td>\n",
              "      <td>-0.991390</td>\n",
              "      <td>-0.311169</td>\n",
              "      <td>1.468177</td>\n",
              "      <td>-0.470401</td>\n",
              "      <td>0.207971</td>\n",
              "      <td>0.025791</td>\n",
              "      <td>0.403993</td>\n",
              "      <td>0.251412</td>\n",
              "      <td>-0.018307</td>\n",
              "      <td>0.277838</td>\n",
              "      <td>-0.110474</td>\n",
              "      <td>0.066928</td>\n",
              "      <td>0.128539</td>\n",
              "      <td>-0.189115</td>\n",
              "      <td>0.133558</td>\n",
              "      <td>-0.021053</td>\n",
              "      <td>149.62</td>\n",
              "      <td>0</td>\n",
              "    </tr>\n",
              "    <tr>\n",
              "      <th>1</th>\n",
              "      <td>0.0</td>\n",
              "      <td>1.191857</td>\n",
              "      <td>0.266151</td>\n",
              "      <td>0.166480</td>\n",
              "      <td>0.448154</td>\n",
              "      <td>0.060018</td>\n",
              "      <td>-0.082361</td>\n",
              "      <td>-0.078803</td>\n",
              "      <td>0.085102</td>\n",
              "      <td>-0.255425</td>\n",
              "      <td>-0.166974</td>\n",
              "      <td>1.612727</td>\n",
              "      <td>1.065235</td>\n",
              "      <td>0.489095</td>\n",
              "      <td>-0.143772</td>\n",
              "      <td>0.635558</td>\n",
              "      <td>0.463917</td>\n",
              "      <td>-0.114805</td>\n",
              "      <td>-0.183361</td>\n",
              "      <td>-0.145783</td>\n",
              "      <td>-0.069083</td>\n",
              "      <td>-0.225775</td>\n",
              "      <td>-0.638672</td>\n",
              "      <td>0.101288</td>\n",
              "      <td>-0.339846</td>\n",
              "      <td>0.167170</td>\n",
              "      <td>0.125895</td>\n",
              "      <td>-0.008983</td>\n",
              "      <td>0.014724</td>\n",
              "      <td>2.69</td>\n",
              "      <td>0</td>\n",
              "    </tr>\n",
              "    <tr>\n",
              "      <th>2</th>\n",
              "      <td>1.0</td>\n",
              "      <td>-1.358354</td>\n",
              "      <td>-1.340163</td>\n",
              "      <td>1.773209</td>\n",
              "      <td>0.379780</td>\n",
              "      <td>-0.503198</td>\n",
              "      <td>1.800499</td>\n",
              "      <td>0.791461</td>\n",
              "      <td>0.247676</td>\n",
              "      <td>-1.514654</td>\n",
              "      <td>0.207643</td>\n",
              "      <td>0.624501</td>\n",
              "      <td>0.066084</td>\n",
              "      <td>0.717293</td>\n",
              "      <td>-0.165946</td>\n",
              "      <td>2.345865</td>\n",
              "      <td>-2.890083</td>\n",
              "      <td>1.109969</td>\n",
              "      <td>-0.121359</td>\n",
              "      <td>-2.261857</td>\n",
              "      <td>0.524980</td>\n",
              "      <td>0.247998</td>\n",
              "      <td>0.771679</td>\n",
              "      <td>0.909412</td>\n",
              "      <td>-0.689281</td>\n",
              "      <td>-0.327642</td>\n",
              "      <td>-0.139097</td>\n",
              "      <td>-0.055353</td>\n",
              "      <td>-0.059752</td>\n",
              "      <td>378.66</td>\n",
              "      <td>0</td>\n",
              "    </tr>\n",
              "    <tr>\n",
              "      <th>3</th>\n",
              "      <td>1.0</td>\n",
              "      <td>-0.966272</td>\n",
              "      <td>-0.185226</td>\n",
              "      <td>1.792993</td>\n",
              "      <td>-0.863291</td>\n",
              "      <td>-0.010309</td>\n",
              "      <td>1.247203</td>\n",
              "      <td>0.237609</td>\n",
              "      <td>0.377436</td>\n",
              "      <td>-1.387024</td>\n",
              "      <td>-0.054952</td>\n",
              "      <td>-0.226487</td>\n",
              "      <td>0.178228</td>\n",
              "      <td>0.507757</td>\n",
              "      <td>-0.287924</td>\n",
              "      <td>-0.631418</td>\n",
              "      <td>-1.059647</td>\n",
              "      <td>-0.684093</td>\n",
              "      <td>1.965775</td>\n",
              "      <td>-1.232622</td>\n",
              "      <td>-0.208038</td>\n",
              "      <td>-0.108300</td>\n",
              "      <td>0.005274</td>\n",
              "      <td>-0.190321</td>\n",
              "      <td>-1.175575</td>\n",
              "      <td>0.647376</td>\n",
              "      <td>-0.221929</td>\n",
              "      <td>0.062723</td>\n",
              "      <td>0.061458</td>\n",
              "      <td>123.50</td>\n",
              "      <td>0</td>\n",
              "    </tr>\n",
              "    <tr>\n",
              "      <th>4</th>\n",
              "      <td>2.0</td>\n",
              "      <td>-1.158233</td>\n",
              "      <td>0.877737</td>\n",
              "      <td>1.548718</td>\n",
              "      <td>0.403034</td>\n",
              "      <td>-0.407193</td>\n",
              "      <td>0.095921</td>\n",
              "      <td>0.592941</td>\n",
              "      <td>-0.270533</td>\n",
              "      <td>0.817739</td>\n",
              "      <td>0.753074</td>\n",
              "      <td>-0.822843</td>\n",
              "      <td>0.538196</td>\n",
              "      <td>1.345852</td>\n",
              "      <td>-1.119670</td>\n",
              "      <td>0.175121</td>\n",
              "      <td>-0.451449</td>\n",
              "      <td>-0.237033</td>\n",
              "      <td>-0.038195</td>\n",
              "      <td>0.803487</td>\n",
              "      <td>0.408542</td>\n",
              "      <td>-0.009431</td>\n",
              "      <td>0.798278</td>\n",
              "      <td>-0.137458</td>\n",
              "      <td>0.141267</td>\n",
              "      <td>-0.206010</td>\n",
              "      <td>0.502292</td>\n",
              "      <td>0.219422</td>\n",
              "      <td>0.215153</td>\n",
              "      <td>69.99</td>\n",
              "      <td>0</td>\n",
              "    </tr>\n",
              "  </tbody>\n",
              "</table>\n",
              "</div>"
            ],
            "text/plain": [
              "   Time        V1        V2        V3  ...       V27       V28  Amount  Class\n",
              "0   0.0 -1.359807 -0.072781  2.536347  ...  0.133558 -0.021053  149.62      0\n",
              "1   0.0  1.191857  0.266151  0.166480  ... -0.008983  0.014724    2.69      0\n",
              "2   1.0 -1.358354 -1.340163  1.773209  ... -0.055353 -0.059752  378.66      0\n",
              "3   1.0 -0.966272 -0.185226  1.792993  ...  0.062723  0.061458  123.50      0\n",
              "4   2.0 -1.158233  0.877737  1.548718  ...  0.219422  0.215153   69.99      0\n",
              "\n",
              "[5 rows x 31 columns]"
            ]
          },
          "metadata": {
            "tags": []
          },
          "execution_count": 3
        }
      ]
    },
    {
      "cell_type": "code",
      "metadata": {
        "colab": {
          "base_uri": "https://localhost:8080/"
        },
        "id": "s62LZ6qFJMez",
        "outputId": "12c41812-4071-4600-997b-e29e3f29383f"
      },
      "source": [
        "#printing info for the dataset to check number of columns, rows etc\n",
        "creditcard.info()"
      ],
      "execution_count": 4,
      "outputs": [
        {
          "output_type": "stream",
          "text": [
            "<class 'pandas.core.frame.DataFrame'>\n",
            "RangeIndex: 284807 entries, 0 to 284806\n",
            "Data columns (total 31 columns):\n",
            " #   Column  Non-Null Count   Dtype  \n",
            "---  ------  --------------   -----  \n",
            " 0   Time    284807 non-null  float64\n",
            " 1   V1      284807 non-null  float64\n",
            " 2   V2      284807 non-null  float64\n",
            " 3   V3      284807 non-null  float64\n",
            " 4   V4      284807 non-null  float64\n",
            " 5   V5      284807 non-null  float64\n",
            " 6   V6      284807 non-null  float64\n",
            " 7   V7      284807 non-null  float64\n",
            " 8   V8      284807 non-null  float64\n",
            " 9   V9      284807 non-null  float64\n",
            " 10  V10     284807 non-null  float64\n",
            " 11  V11     284807 non-null  float64\n",
            " 12  V12     284807 non-null  float64\n",
            " 13  V13     284807 non-null  float64\n",
            " 14  V14     284807 non-null  float64\n",
            " 15  V15     284807 non-null  float64\n",
            " 16  V16     284807 non-null  float64\n",
            " 17  V17     284807 non-null  float64\n",
            " 18  V18     284807 non-null  float64\n",
            " 19  V19     284807 non-null  float64\n",
            " 20  V20     284807 non-null  float64\n",
            " 21  V21     284807 non-null  float64\n",
            " 22  V22     284807 non-null  float64\n",
            " 23  V23     284807 non-null  float64\n",
            " 24  V24     284807 non-null  float64\n",
            " 25  V25     284807 non-null  float64\n",
            " 26  V26     284807 non-null  float64\n",
            " 27  V27     284807 non-null  float64\n",
            " 28  V28     284807 non-null  float64\n",
            " 29  Amount  284807 non-null  float64\n",
            " 30  Class   284807 non-null  int64  \n",
            "dtypes: float64(30), int64(1)\n",
            "memory usage: 67.4 MB\n"
          ],
          "name": "stdout"
        }
      ]
    },
    {
      "cell_type": "code",
      "metadata": {
        "colab": {
          "base_uri": "https://localhost:8080/"
        },
        "id": "WpXsEwhQJMe0",
        "outputId": "1492b9c2-cf36-4cb1-b501-7271d2a1f1f3"
      },
      "source": [
        "from collections import Counter\n",
        "\n",
        "# summarize the class distribution\n",
        "fraud = creditcard.values[:,-1]\n",
        "counter = Counter(fraud)\n",
        "for CLASS,count in counter.items():\n",
        "\tpercentage = count / len(fraud) * 100\n",
        "\tprint('Class=%d, Count=%d, Percentage=%.3f%%' % (CLASS, count, percentage))"
      ],
      "execution_count": 5,
      "outputs": [
        {
          "output_type": "stream",
          "text": [
            "Class=0, Count=284315, Percentage=99.827%\n",
            "Class=1, Count=492, Percentage=0.173%\n"
          ],
          "name": "stdout"
        }
      ]
    },
    {
      "cell_type": "code",
      "metadata": {
        "colab": {
          "base_uri": "https://localhost:8080/",
          "height": 1000
        },
        "id": "7CXUWk6xJMe0",
        "outputId": "f2b16a87-4ca2-4048-eb6f-9453c219e512"
      },
      "source": [
        "import matplotlib.pyplot as plt\n",
        "\n",
        "# drop the class variable\n",
        "df = creditcard.drop(\"Class\", axis=1)\n",
        "# create a histogram plot of each numeric variable\n",
        "ax = df.hist(bins=100)\n",
        "\n",
        "# set the size of the plots\n",
        "plt.rcParams['figure.figsize'] = (20.0, 20.0)\n"
      ],
      "execution_count": 17,
      "outputs": [
        {
          "output_type": "display_data",
          "data": {
            "image/png": "[encoded data removed]",
            "text/plain": [
              "<Figure size 1440x1440 with 30 Axes>"
            ]
          },
          "metadata": {
            "tags": [],
            "needs_background": "light"
          }
        }
      ]
    },
    {
      "cell_type": "code",
      "metadata": {
        "colab": {
          "base_uri": "https://localhost:8080/"
        },
        "id": "yDrGuy6N4mwi",
        "outputId": "d1f372e2-9593-4a34-c9dc-0031d74ada52"
      },
      "source": [
        "#Checking how many columns have null values\n",
        "df.isnull().any().sum()"
      ],
      "execution_count": 7,
      "outputs": [
        {
          "output_type": "execute_result",
          "data": {
            "text/plain": [
              "0"
            ]
          },
          "metadata": {
            "tags": []
          },
          "execution_count": 7
        }
      ]
    },
    {
      "cell_type": "code",
      "metadata": {
        "colab": {
          "base_uri": "https://localhost:8080/",
          "height": 439
        },
        "id": "oYkZw3PZ4zC8",
        "outputId": "d4743fa2-c26e-4b3e-ba98-64cc09747bdc"
      },
      "source": [
        "#Checking for any duplicate data\n",
        "duplicate_data = df[df.duplicated(keep=False)]\n",
        "duplicate_data"
      ],
      "execution_count": 8,
      "outputs": [
        {
          "output_type": "execute_result",
          "data": {
            "text/html": [
              "<div>\n",
              "<style scoped>\n",
              "    .dataframe tbody tr th:only-of-type {\n",
              "        vertical-align: middle;\n",
              "    }\n",
              "\n",
              "    .dataframe tbody tr th {\n",
              "        vertical-align: top;\n",
              "    }\n",
              "\n",
              "    .dataframe thead th {\n",
              "        text-align: right;\n",
              "    }\n",
              "</style>\n",
              "<table border=\"1\" class=\"dataframe\">\n",
              "  <thead>\n",
              "    <tr style=\"text-align: right;\">\n",
              "      <th></th>\n",
              "      <th>Time</th>\n",
              "      <th>V1</th>\n",
              "      <th>V2</th>\n",
              "      <th>V3</th>\n",
              "      <th>V4</th>\n",
              "      <th>V5</th>\n",
              "      <th>V6</th>\n",
              "      <th>V7</th>\n",
              "      <th>V8</th>\n",
              "      <th>V9</th>\n",
              "      <th>V10</th>\n",
              "      <th>V11</th>\n",
              "      <th>V12</th>\n",
              "      <th>V13</th>\n",
              "      <th>V14</th>\n",
              "      <th>V15</th>\n",
              "      <th>V16</th>\n",
              "      <th>V17</th>\n",
              "      <th>V18</th>\n",
              "      <th>V19</th>\n",
              "      <th>V20</th>\n",
              "      <th>V21</th>\n",
              "      <th>V22</th>\n",
              "      <th>V23</th>\n",
              "      <th>V24</th>\n",
              "      <th>V25</th>\n",
              "      <th>V26</th>\n",
              "      <th>V27</th>\n",
              "      <th>V28</th>\n",
              "      <th>Amount</th>\n",
              "    </tr>\n",
              "  </thead>\n",
              "  <tbody>\n",
              "    <tr>\n",
              "      <th>32</th>\n",
              "      <td>26.0</td>\n",
              "      <td>-0.529912</td>\n",
              "      <td>0.873892</td>\n",
              "      <td>1.347247</td>\n",
              "      <td>0.145457</td>\n",
              "      <td>0.414209</td>\n",
              "      <td>0.100223</td>\n",
              "      <td>0.711206</td>\n",
              "      <td>0.176066</td>\n",
              "      <td>-0.286717</td>\n",
              "      <td>-0.484688</td>\n",
              "      <td>0.872490</td>\n",
              "      <td>0.851636</td>\n",
              "      <td>-0.571745</td>\n",
              "      <td>0.100974</td>\n",
              "      <td>-1.519772</td>\n",
              "      <td>-0.284376</td>\n",
              "      <td>-0.310524</td>\n",
              "      <td>-0.404248</td>\n",
              "      <td>-0.823374</td>\n",
              "      <td>-0.290348</td>\n",
              "      <td>0.046949</td>\n",
              "      <td>0.208105</td>\n",
              "      <td>-0.185548</td>\n",
              "      <td>0.001031</td>\n",
              "      <td>0.098816</td>\n",
              "      <td>-0.552904</td>\n",
              "      <td>-0.073288</td>\n",
              "      <td>0.023307</td>\n",
              "      <td>6.14</td>\n",
              "    </tr>\n",
              "    <tr>\n",
              "      <th>33</th>\n",
              "      <td>26.0</td>\n",
              "      <td>-0.529912</td>\n",
              "      <td>0.873892</td>\n",
              "      <td>1.347247</td>\n",
              "      <td>0.145457</td>\n",
              "      <td>0.414209</td>\n",
              "      <td>0.100223</td>\n",
              "      <td>0.711206</td>\n",
              "      <td>0.176066</td>\n",
              "      <td>-0.286717</td>\n",
              "      <td>-0.484688</td>\n",
              "      <td>0.872490</td>\n",
              "      <td>0.851636</td>\n",
              "      <td>-0.571745</td>\n",
              "      <td>0.100974</td>\n",
              "      <td>-1.519772</td>\n",
              "      <td>-0.284376</td>\n",
              "      <td>-0.310524</td>\n",
              "      <td>-0.404248</td>\n",
              "      <td>-0.823374</td>\n",
              "      <td>-0.290348</td>\n",
              "      <td>0.046949</td>\n",
              "      <td>0.208105</td>\n",
              "      <td>-0.185548</td>\n",
              "      <td>0.001031</td>\n",
              "      <td>0.098816</td>\n",
              "      <td>-0.552904</td>\n",
              "      <td>-0.073288</td>\n",
              "      <td>0.023307</td>\n",
              "      <td>6.14</td>\n",
              "    </tr>\n",
              "    <tr>\n",
              "      <th>34</th>\n",
              "      <td>26.0</td>\n",
              "      <td>-0.535388</td>\n",
              "      <td>0.865268</td>\n",
              "      <td>1.351076</td>\n",
              "      <td>0.147575</td>\n",
              "      <td>0.433680</td>\n",
              "      <td>0.086983</td>\n",
              "      <td>0.693039</td>\n",
              "      <td>0.179742</td>\n",
              "      <td>-0.285642</td>\n",
              "      <td>-0.482474</td>\n",
              "      <td>0.871800</td>\n",
              "      <td>0.853447</td>\n",
              "      <td>-0.571822</td>\n",
              "      <td>0.102252</td>\n",
              "      <td>-1.519991</td>\n",
              "      <td>-0.285912</td>\n",
              "      <td>-0.309633</td>\n",
              "      <td>-0.403902</td>\n",
              "      <td>-0.823743</td>\n",
              "      <td>-0.283264</td>\n",
              "      <td>0.049526</td>\n",
              "      <td>0.206537</td>\n",
              "      <td>-0.187108</td>\n",
              "      <td>0.000753</td>\n",
              "      <td>0.098117</td>\n",
              "      <td>-0.553471</td>\n",
              "      <td>-0.078306</td>\n",
              "      <td>0.025427</td>\n",
              "      <td>1.77</td>\n",
              "    </tr>\n",
              "    <tr>\n",
              "      <th>35</th>\n",
              "      <td>26.0</td>\n",
              "      <td>-0.535388</td>\n",
              "      <td>0.865268</td>\n",
              "      <td>1.351076</td>\n",
              "      <td>0.147575</td>\n",
              "      <td>0.433680</td>\n",
              "      <td>0.086983</td>\n",
              "      <td>0.693039</td>\n",
              "      <td>0.179742</td>\n",
              "      <td>-0.285642</td>\n",
              "      <td>-0.482474</td>\n",
              "      <td>0.871800</td>\n",
              "      <td>0.853447</td>\n",
              "      <td>-0.571822</td>\n",
              "      <td>0.102252</td>\n",
              "      <td>-1.519991</td>\n",
              "      <td>-0.285912</td>\n",
              "      <td>-0.309633</td>\n",
              "      <td>-0.403902</td>\n",
              "      <td>-0.823743</td>\n",
              "      <td>-0.283264</td>\n",
              "      <td>0.049526</td>\n",
              "      <td>0.206537</td>\n",
              "      <td>-0.187108</td>\n",
              "      <td>0.000753</td>\n",
              "      <td>0.098117</td>\n",
              "      <td>-0.553471</td>\n",
              "      <td>-0.078306</td>\n",
              "      <td>0.025427</td>\n",
              "      <td>1.77</td>\n",
              "    </tr>\n",
              "    <tr>\n",
              "      <th>112</th>\n",
              "      <td>74.0</td>\n",
              "      <td>1.038370</td>\n",
              "      <td>0.127486</td>\n",
              "      <td>0.184456</td>\n",
              "      <td>1.109950</td>\n",
              "      <td>0.441699</td>\n",
              "      <td>0.945283</td>\n",
              "      <td>-0.036715</td>\n",
              "      <td>0.350995</td>\n",
              "      <td>0.118950</td>\n",
              "      <td>-0.243289</td>\n",
              "      <td>0.578063</td>\n",
              "      <td>0.674730</td>\n",
              "      <td>-0.534231</td>\n",
              "      <td>0.446601</td>\n",
              "      <td>1.122885</td>\n",
              "      <td>-1.768001</td>\n",
              "      <td>1.241157</td>\n",
              "      <td>-2.449500</td>\n",
              "      <td>-1.747255</td>\n",
              "      <td>-0.335520</td>\n",
              "      <td>0.102520</td>\n",
              "      <td>0.605089</td>\n",
              "      <td>0.023092</td>\n",
              "      <td>-0.626463</td>\n",
              "      <td>0.479120</td>\n",
              "      <td>-0.166937</td>\n",
              "      <td>0.081247</td>\n",
              "      <td>0.001192</td>\n",
              "      <td>1.18</td>\n",
              "    </tr>\n",
              "    <tr>\n",
              "      <th>...</th>\n",
              "      <td>...</td>\n",
              "      <td>...</td>\n",
              "      <td>...</td>\n",
              "      <td>...</td>\n",
              "      <td>...</td>\n",
              "      <td>...</td>\n",
              "      <td>...</td>\n",
              "      <td>...</td>\n",
              "      <td>...</td>\n",
              "      <td>...</td>\n",
              "      <td>...</td>\n",
              "      <td>...</td>\n",
              "      <td>...</td>\n",
              "      <td>...</td>\n",
              "      <td>...</td>\n",
              "      <td>...</td>\n",
              "      <td>...</td>\n",
              "      <td>...</td>\n",
              "      <td>...</td>\n",
              "      <td>...</td>\n",
              "      <td>...</td>\n",
              "      <td>...</td>\n",
              "      <td>...</td>\n",
              "      <td>...</td>\n",
              "      <td>...</td>\n",
              "      <td>...</td>\n",
              "      <td>...</td>\n",
              "      <td>...</td>\n",
              "      <td>...</td>\n",
              "      <td>...</td>\n",
              "    </tr>\n",
              "    <tr>\n",
              "      <th>283485</th>\n",
              "      <td>171627.0</td>\n",
              "      <td>-1.457978</td>\n",
              "      <td>1.378203</td>\n",
              "      <td>0.811515</td>\n",
              "      <td>-0.603760</td>\n",
              "      <td>-0.711883</td>\n",
              "      <td>-0.471672</td>\n",
              "      <td>-0.282535</td>\n",
              "      <td>0.880654</td>\n",
              "      <td>0.052808</td>\n",
              "      <td>-0.830603</td>\n",
              "      <td>-1.191774</td>\n",
              "      <td>0.942870</td>\n",
              "      <td>1.372621</td>\n",
              "      <td>-0.037988</td>\n",
              "      <td>-0.208490</td>\n",
              "      <td>0.321883</td>\n",
              "      <td>-0.205951</td>\n",
              "      <td>-0.025225</td>\n",
              "      <td>-0.468427</td>\n",
              "      <td>0.023667</td>\n",
              "      <td>0.284205</td>\n",
              "      <td>0.949659</td>\n",
              "      <td>-0.216949</td>\n",
              "      <td>0.083250</td>\n",
              "      <td>0.044944</td>\n",
              "      <td>0.639933</td>\n",
              "      <td>0.219432</td>\n",
              "      <td>0.116772</td>\n",
              "      <td>11.93</td>\n",
              "    </tr>\n",
              "    <tr>\n",
              "      <th>284190</th>\n",
              "      <td>172233.0</td>\n",
              "      <td>-2.667936</td>\n",
              "      <td>3.160505</td>\n",
              "      <td>-3.355984</td>\n",
              "      <td>1.007845</td>\n",
              "      <td>-0.377397</td>\n",
              "      <td>-0.109730</td>\n",
              "      <td>-0.667233</td>\n",
              "      <td>2.309700</td>\n",
              "      <td>-1.639306</td>\n",
              "      <td>-1.449823</td>\n",
              "      <td>-0.508930</td>\n",
              "      <td>0.600035</td>\n",
              "      <td>-0.627313</td>\n",
              "      <td>1.017499</td>\n",
              "      <td>-0.887384</td>\n",
              "      <td>0.420096</td>\n",
              "      <td>1.856497</td>\n",
              "      <td>1.315099</td>\n",
              "      <td>1.096112</td>\n",
              "      <td>-0.821707</td>\n",
              "      <td>0.391483</td>\n",
              "      <td>0.266536</td>\n",
              "      <td>-0.079853</td>\n",
              "      <td>-0.096395</td>\n",
              "      <td>0.086719</td>\n",
              "      <td>-0.451128</td>\n",
              "      <td>-1.183743</td>\n",
              "      <td>-0.222200</td>\n",
              "      <td>55.66</td>\n",
              "    </tr>\n",
              "    <tr>\n",
              "      <th>284191</th>\n",
              "      <td>172233.0</td>\n",
              "      <td>-2.667936</td>\n",
              "      <td>3.160505</td>\n",
              "      <td>-3.355984</td>\n",
              "      <td>1.007845</td>\n",
              "      <td>-0.377397</td>\n",
              "      <td>-0.109730</td>\n",
              "      <td>-0.667233</td>\n",
              "      <td>2.309700</td>\n",
              "      <td>-1.639306</td>\n",
              "      <td>-1.449823</td>\n",
              "      <td>-0.508930</td>\n",
              "      <td>0.600035</td>\n",
              "      <td>-0.627313</td>\n",
              "      <td>1.017499</td>\n",
              "      <td>-0.887384</td>\n",
              "      <td>0.420096</td>\n",
              "      <td>1.856497</td>\n",
              "      <td>1.315099</td>\n",
              "      <td>1.096112</td>\n",
              "      <td>-0.821707</td>\n",
              "      <td>0.391483</td>\n",
              "      <td>0.266536</td>\n",
              "      <td>-0.079853</td>\n",
              "      <td>-0.096395</td>\n",
              "      <td>0.086719</td>\n",
              "      <td>-0.451128</td>\n",
              "      <td>-1.183743</td>\n",
              "      <td>-0.222200</td>\n",
              "      <td>55.66</td>\n",
              "    </tr>\n",
              "    <tr>\n",
              "      <th>284192</th>\n",
              "      <td>172233.0</td>\n",
              "      <td>-2.691642</td>\n",
              "      <td>3.123168</td>\n",
              "      <td>-3.339407</td>\n",
              "      <td>1.017018</td>\n",
              "      <td>-0.293095</td>\n",
              "      <td>-0.167054</td>\n",
              "      <td>-0.745886</td>\n",
              "      <td>2.325616</td>\n",
              "      <td>-1.634651</td>\n",
              "      <td>-1.440241</td>\n",
              "      <td>-0.511918</td>\n",
              "      <td>0.607878</td>\n",
              "      <td>-0.627645</td>\n",
              "      <td>1.023032</td>\n",
              "      <td>-0.888334</td>\n",
              "      <td>0.413444</td>\n",
              "      <td>1.860351</td>\n",
              "      <td>1.316597</td>\n",
              "      <td>1.094512</td>\n",
              "      <td>-0.791037</td>\n",
              "      <td>0.402639</td>\n",
              "      <td>0.259746</td>\n",
              "      <td>-0.086606</td>\n",
              "      <td>-0.097597</td>\n",
              "      <td>0.083693</td>\n",
              "      <td>-0.453584</td>\n",
              "      <td>-1.205466</td>\n",
              "      <td>-0.213020</td>\n",
              "      <td>36.74</td>\n",
              "    </tr>\n",
              "    <tr>\n",
              "      <th>284193</th>\n",
              "      <td>172233.0</td>\n",
              "      <td>-2.691642</td>\n",
              "      <td>3.123168</td>\n",
              "      <td>-3.339407</td>\n",
              "      <td>1.017018</td>\n",
              "      <td>-0.293095</td>\n",
              "      <td>-0.167054</td>\n",
              "      <td>-0.745886</td>\n",
              "      <td>2.325616</td>\n",
              "      <td>-1.634651</td>\n",
              "      <td>-1.440241</td>\n",
              "      <td>-0.511918</td>\n",
              "      <td>0.607878</td>\n",
              "      <td>-0.627645</td>\n",
              "      <td>1.023032</td>\n",
              "      <td>-0.888334</td>\n",
              "      <td>0.413444</td>\n",
              "      <td>1.860351</td>\n",
              "      <td>1.316597</td>\n",
              "      <td>1.094512</td>\n",
              "      <td>-0.791037</td>\n",
              "      <td>0.402639</td>\n",
              "      <td>0.259746</td>\n",
              "      <td>-0.086606</td>\n",
              "      <td>-0.097597</td>\n",
              "      <td>0.083693</td>\n",
              "      <td>-0.453584</td>\n",
              "      <td>-1.205466</td>\n",
              "      <td>-0.213020</td>\n",
              "      <td>36.74</td>\n",
              "    </tr>\n",
              "  </tbody>\n",
              "</table>\n",
              "<p>1854 rows × 30 columns</p>\n",
              "</div>"
            ],
            "text/plain": [
              "            Time        V1        V2  ...       V27       V28  Amount\n",
              "32          26.0 -0.529912  0.873892  ... -0.073288  0.023307    6.14\n",
              "33          26.0 -0.529912  0.873892  ... -0.073288  0.023307    6.14\n",
              "34          26.0 -0.535388  0.865268  ... -0.078306  0.025427    1.77\n",
              "35          26.0 -0.535388  0.865268  ... -0.078306  0.025427    1.77\n",
              "112         74.0  1.038370  0.127486  ...  0.081247  0.001192    1.18\n",
              "...          ...       ...       ...  ...       ...       ...     ...\n",
              "283485  171627.0 -1.457978  1.378203  ...  0.219432  0.116772   11.93\n",
              "284190  172233.0 -2.667936  3.160505  ... -1.183743 -0.222200   55.66\n",
              "284191  172233.0 -2.667936  3.160505  ... -1.183743 -0.222200   55.66\n",
              "284192  172233.0 -2.691642  3.123168  ... -1.205466 -0.213020   36.74\n",
              "284193  172233.0 -2.691642  3.123168  ... -1.205466 -0.213020   36.74\n",
              "\n",
              "[1854 rows x 30 columns]"
            ]
          },
          "metadata": {
            "tags": []
          },
          "execution_count": 8
        }
      ]
    },
    {
      "cell_type": "code",
      "metadata": {
        "colab": {
          "base_uri": "https://localhost:8080/"
        },
        "id": "NwqY0lHSQTu8",
        "outputId": "a0e761a5-31ad-4c37-a3b7-ac11b5d8197c"
      },
      "source": [
        "#here we can see the number of unique calues in each column\n",
        "print(creditcard.nunique())"
      ],
      "execution_count": 9,
      "outputs": [
        {
          "output_type": "stream",
          "text": [
            "Time      124592\n",
            "V1        275663\n",
            "V2        275663\n",
            "V3        275663\n",
            "V4        275663\n",
            "V5        275663\n",
            "V6        275663\n",
            "V7        275663\n",
            "V8        275663\n",
            "V9        275663\n",
            "V10       275663\n",
            "V11       275663\n",
            "V12       275663\n",
            "V13       275663\n",
            "V14       275663\n",
            "V15       275663\n",
            "V16       275663\n",
            "V17       275663\n",
            "V18       275663\n",
            "V19       275663\n",
            "V20       275663\n",
            "V21       275663\n",
            "V22       275663\n",
            "V23       275663\n",
            "V24       275663\n",
            "V25       275663\n",
            "V26       275663\n",
            "V27       275663\n",
            "V28       275663\n",
            "Amount     32767\n",
            "Class          2\n",
            "dtype: int64\n"
          ],
          "name": "stdout"
        }
      ]
    },
    {
      "cell_type": "code",
      "metadata": {
        "id": "POPXdjRfJMe1"
      },
      "source": [
        "#Assigning Y to the class column and X to the rest of the data\n",
        "X = df\n",
        "Y = creditcard[\"Class\"]"
      ],
      "execution_count": 10,
      "outputs": []
    },
    {
      "cell_type": "code",
      "metadata": {
        "colab": {
          "base_uri": "https://localhost:8080/",
          "height": 224
        },
        "id": "2ouwVr3nRab4",
        "outputId": "705ad854-c3bb-4c67-deab-d464b5df2e32"
      },
      "source": [
        "from sklearn.preprocessing import StandardScaler\n",
        "\n",
        "#Using StandardScaler to scale the data\n",
        "sc = StandardScaler()\n",
        "X = sc.fit_transform(X)\n",
        "X = pd.DataFrame(X)\n",
        "X.head()"
      ],
      "execution_count": 11,
      "outputs": [
        {
          "output_type": "execute_result",
          "data": {
            "text/html": [
              "<div>\n",
              "<style scoped>\n",
              "    .dataframe tbody tr th:only-of-type {\n",
              "        vertical-align: middle;\n",
              "    }\n",
              "\n",
              "    .dataframe tbody tr th {\n",
              "        vertical-align: top;\n",
              "    }\n",
              "\n",
              "    .dataframe thead th {\n",
              "        text-align: right;\n",
              "    }\n",
              "</style>\n",
              "<table border=\"1\" class=\"dataframe\">\n",
              "  <thead>\n",
              "    <tr style=\"text-align: right;\">\n",
              "      <th></th>\n",
              "      <th>0</th>\n",
              "      <th>1</th>\n",
              "      <th>2</th>\n",
              "      <th>3</th>\n",
              "      <th>4</th>\n",
              "      <th>5</th>\n",
              "      <th>6</th>\n",
              "      <th>7</th>\n",
              "      <th>8</th>\n",
              "      <th>9</th>\n",
              "      <th>10</th>\n",
              "      <th>11</th>\n",
              "      <th>12</th>\n",
              "      <th>13</th>\n",
              "      <th>14</th>\n",
              "      <th>15</th>\n",
              "      <th>16</th>\n",
              "      <th>17</th>\n",
              "      <th>18</th>\n",
              "      <th>19</th>\n",
              "      <th>20</th>\n",
              "      <th>21</th>\n",
              "      <th>22</th>\n",
              "      <th>23</th>\n",
              "      <th>24</th>\n",
              "      <th>25</th>\n",
              "      <th>26</th>\n",
              "      <th>27</th>\n",
              "      <th>28</th>\n",
              "      <th>29</th>\n",
              "    </tr>\n",
              "  </thead>\n",
              "  <tbody>\n",
              "    <tr>\n",
              "      <th>0</th>\n",
              "      <td>-1.996583</td>\n",
              "      <td>-0.694242</td>\n",
              "      <td>-0.044075</td>\n",
              "      <td>1.672773</td>\n",
              "      <td>0.973366</td>\n",
              "      <td>-0.245117</td>\n",
              "      <td>0.347068</td>\n",
              "      <td>0.193679</td>\n",
              "      <td>0.082637</td>\n",
              "      <td>0.331128</td>\n",
              "      <td>0.083386</td>\n",
              "      <td>-0.540407</td>\n",
              "      <td>-0.618296</td>\n",
              "      <td>-0.996099</td>\n",
              "      <td>-0.324610</td>\n",
              "      <td>1.604014</td>\n",
              "      <td>-0.536833</td>\n",
              "      <td>0.244863</td>\n",
              "      <td>0.030770</td>\n",
              "      <td>0.496282</td>\n",
              "      <td>0.326118</td>\n",
              "      <td>-0.024923</td>\n",
              "      <td>0.382854</td>\n",
              "      <td>-0.176911</td>\n",
              "      <td>0.110507</td>\n",
              "      <td>0.246585</td>\n",
              "      <td>-0.392170</td>\n",
              "      <td>0.330892</td>\n",
              "      <td>-0.063781</td>\n",
              "      <td>0.244964</td>\n",
              "    </tr>\n",
              "    <tr>\n",
              "      <th>1</th>\n",
              "      <td>-1.996583</td>\n",
              "      <td>0.608496</td>\n",
              "      <td>0.161176</td>\n",
              "      <td>0.109797</td>\n",
              "      <td>0.316523</td>\n",
              "      <td>0.043483</td>\n",
              "      <td>-0.061820</td>\n",
              "      <td>-0.063700</td>\n",
              "      <td>0.071253</td>\n",
              "      <td>-0.232494</td>\n",
              "      <td>-0.153350</td>\n",
              "      <td>1.580003</td>\n",
              "      <td>1.066089</td>\n",
              "      <td>0.491418</td>\n",
              "      <td>-0.149982</td>\n",
              "      <td>0.694360</td>\n",
              "      <td>0.529434</td>\n",
              "      <td>-0.135170</td>\n",
              "      <td>-0.218763</td>\n",
              "      <td>-0.179086</td>\n",
              "      <td>-0.089611</td>\n",
              "      <td>-0.307377</td>\n",
              "      <td>-0.880077</td>\n",
              "      <td>0.162201</td>\n",
              "      <td>-0.561131</td>\n",
              "      <td>0.320694</td>\n",
              "      <td>0.261069</td>\n",
              "      <td>-0.022256</td>\n",
              "      <td>0.044608</td>\n",
              "      <td>-0.342475</td>\n",
              "    </tr>\n",
              "    <tr>\n",
              "      <th>2</th>\n",
              "      <td>-1.996562</td>\n",
              "      <td>-0.693500</td>\n",
              "      <td>-0.811578</td>\n",
              "      <td>1.169468</td>\n",
              "      <td>0.268231</td>\n",
              "      <td>-0.364572</td>\n",
              "      <td>1.351454</td>\n",
              "      <td>0.639776</td>\n",
              "      <td>0.207373</td>\n",
              "      <td>-1.378675</td>\n",
              "      <td>0.190700</td>\n",
              "      <td>0.611830</td>\n",
              "      <td>0.066137</td>\n",
              "      <td>0.720700</td>\n",
              "      <td>-0.173114</td>\n",
              "      <td>2.562906</td>\n",
              "      <td>-3.298235</td>\n",
              "      <td>1.306868</td>\n",
              "      <td>-0.144790</td>\n",
              "      <td>-2.778561</td>\n",
              "      <td>0.680975</td>\n",
              "      <td>0.337632</td>\n",
              "      <td>1.063358</td>\n",
              "      <td>1.456320</td>\n",
              "      <td>-1.138092</td>\n",
              "      <td>-0.628537</td>\n",
              "      <td>-0.288447</td>\n",
              "      <td>-0.137137</td>\n",
              "      <td>-0.181021</td>\n",
              "      <td>1.160686</td>\n",
              "    </tr>\n",
              "    <tr>\n",
              "      <th>3</th>\n",
              "      <td>-1.996562</td>\n",
              "      <td>-0.493325</td>\n",
              "      <td>-0.112169</td>\n",
              "      <td>1.182516</td>\n",
              "      <td>-0.609727</td>\n",
              "      <td>-0.007469</td>\n",
              "      <td>0.936150</td>\n",
              "      <td>0.192071</td>\n",
              "      <td>0.316018</td>\n",
              "      <td>-1.262503</td>\n",
              "      <td>-0.050468</td>\n",
              "      <td>-0.221892</td>\n",
              "      <td>0.178371</td>\n",
              "      <td>0.510169</td>\n",
              "      <td>-0.300360</td>\n",
              "      <td>-0.689837</td>\n",
              "      <td>-1.209296</td>\n",
              "      <td>-0.805445</td>\n",
              "      <td>2.345305</td>\n",
              "      <td>-1.514205</td>\n",
              "      <td>-0.269855</td>\n",
              "      <td>-0.147443</td>\n",
              "      <td>0.007267</td>\n",
              "      <td>-0.304777</td>\n",
              "      <td>-1.941027</td>\n",
              "      <td>1.241904</td>\n",
              "      <td>-0.460217</td>\n",
              "      <td>0.155396</td>\n",
              "      <td>0.186189</td>\n",
              "      <td>0.140534</td>\n",
              "    </tr>\n",
              "    <tr>\n",
              "      <th>4</th>\n",
              "      <td>-1.996541</td>\n",
              "      <td>-0.591330</td>\n",
              "      <td>0.531541</td>\n",
              "      <td>1.021412</td>\n",
              "      <td>0.284655</td>\n",
              "      <td>-0.295015</td>\n",
              "      <td>0.071999</td>\n",
              "      <td>0.479302</td>\n",
              "      <td>-0.226510</td>\n",
              "      <td>0.744326</td>\n",
              "      <td>0.691625</td>\n",
              "      <td>-0.806147</td>\n",
              "      <td>0.538627</td>\n",
              "      <td>1.352244</td>\n",
              "      <td>-1.168034</td>\n",
              "      <td>0.191323</td>\n",
              "      <td>-0.515205</td>\n",
              "      <td>-0.279081</td>\n",
              "      <td>-0.045569</td>\n",
              "      <td>0.987037</td>\n",
              "      <td>0.529939</td>\n",
              "      <td>-0.012839</td>\n",
              "      <td>1.100011</td>\n",
              "      <td>-0.220123</td>\n",
              "      <td>0.233250</td>\n",
              "      <td>-0.395202</td>\n",
              "      <td>1.041611</td>\n",
              "      <td>0.543620</td>\n",
              "      <td>0.651816</td>\n",
              "      <td>-0.073403</td>\n",
              "    </tr>\n",
              "  </tbody>\n",
              "</table>\n",
              "</div>"
            ],
            "text/plain": [
              "         0         1         2   ...        27        28        29\n",
              "0 -1.996583 -0.694242 -0.044075  ...  0.330892 -0.063781  0.244964\n",
              "1 -1.996583  0.608496  0.161176  ... -0.022256  0.044608 -0.342475\n",
              "2 -1.996562 -0.693500 -0.811578  ... -0.137137 -0.181021  1.160686\n",
              "3 -1.996562 -0.493325 -0.112169  ...  0.155396  0.186189  0.140534\n",
              "4 -1.996541 -0.591330  0.531541  ...  0.543620  0.651816 -0.073403\n",
              "\n",
              "[5 rows x 30 columns]"
            ]
          },
          "metadata": {
            "tags": []
          },
          "execution_count": 11
        }
      ]
    },
    {
      "cell_type": "code",
      "metadata": {
        "colab": {
          "base_uri": "https://localhost:8080/",
          "height": 385
        },
        "id": "3LvZK3WvJMe1",
        "outputId": "a00bba11-cd7b-420a-a967-f3fc50914177"
      },
      "source": [
        "#Viewing the the described info about the scaled data\n",
        "X.describe()"
      ],
      "execution_count": 12,
      "outputs": [
        {
          "output_type": "execute_result",
          "data": {
            "text/html": [
              "<div>\n",
              "<style scoped>\n",
              "    .dataframe tbody tr th:only-of-type {\n",
              "        vertical-align: middle;\n",
              "    }\n",
              "\n",
              "    .dataframe tbody tr th {\n",
              "        vertical-align: top;\n",
              "    }\n",
              "\n",
              "    .dataframe thead th {\n",
              "        text-align: right;\n",
              "    }\n",
              "</style>\n",
              "<table border=\"1\" class=\"dataframe\">\n",
              "  <thead>\n",
              "    <tr style=\"text-align: right;\">\n",
              "      <th></th>\n",
              "      <th>0</th>\n",
              "      <th>1</th>\n",
              "      <th>2</th>\n",
              "      <th>3</th>\n",
              "      <th>4</th>\n",
              "      <th>5</th>\n",
              "      <th>6</th>\n",
              "      <th>7</th>\n",
              "      <th>8</th>\n",
              "      <th>9</th>\n",
              "      <th>10</th>\n",
              "      <th>11</th>\n",
              "      <th>12</th>\n",
              "      <th>13</th>\n",
              "      <th>14</th>\n",
              "      <th>15</th>\n",
              "      <th>16</th>\n",
              "      <th>17</th>\n",
              "      <th>18</th>\n",
              "      <th>19</th>\n",
              "      <th>20</th>\n",
              "      <th>21</th>\n",
              "      <th>22</th>\n",
              "      <th>23</th>\n",
              "      <th>24</th>\n",
              "      <th>25</th>\n",
              "      <th>26</th>\n",
              "      <th>27</th>\n",
              "      <th>28</th>\n",
              "      <th>29</th>\n",
              "    </tr>\n",
              "  </thead>\n",
              "  <tbody>\n",
              "    <tr>\n",
              "      <th>count</th>\n",
              "      <td>2.848070e+05</td>\n",
              "      <td>2.848070e+05</td>\n",
              "      <td>2.848070e+05</td>\n",
              "      <td>2.848070e+05</td>\n",
              "      <td>2.848070e+05</td>\n",
              "      <td>2.848070e+05</td>\n",
              "      <td>2.848070e+05</td>\n",
              "      <td>2.848070e+05</td>\n",
              "      <td>2.848070e+05</td>\n",
              "      <td>2.848070e+05</td>\n",
              "      <td>2.848070e+05</td>\n",
              "      <td>2.848070e+05</td>\n",
              "      <td>2.848070e+05</td>\n",
              "      <td>2.848070e+05</td>\n",
              "      <td>2.848070e+05</td>\n",
              "      <td>2.848070e+05</td>\n",
              "      <td>2.848070e+05</td>\n",
              "      <td>2.848070e+05</td>\n",
              "      <td>2.848070e+05</td>\n",
              "      <td>2.848070e+05</td>\n",
              "      <td>2.848070e+05</td>\n",
              "      <td>2.848070e+05</td>\n",
              "      <td>2.848070e+05</td>\n",
              "      <td>2.848070e+05</td>\n",
              "      <td>2.848070e+05</td>\n",
              "      <td>2.848070e+05</td>\n",
              "      <td>2.848070e+05</td>\n",
              "      <td>2.848070e+05</td>\n",
              "      <td>2.848070e+05</td>\n",
              "      <td>2.848070e+05</td>\n",
              "    </tr>\n",
              "    <tr>\n",
              "      <th>mean</th>\n",
              "      <td>-1.050379e-14</td>\n",
              "      <td>-8.157366e-16</td>\n",
              "      <td>3.154853e-17</td>\n",
              "      <td>-4.409878e-15</td>\n",
              "      <td>-6.734811e-16</td>\n",
              "      <td>-2.874435e-16</td>\n",
              "      <td>4.168992e-16</td>\n",
              "      <td>-8.767997e-16</td>\n",
              "      <td>-2.423604e-16</td>\n",
              "      <td>3.078727e-16</td>\n",
              "      <td>2.026926e-17</td>\n",
              "      <td>1.622758e-15</td>\n",
              "      <td>2.052953e-15</td>\n",
              "      <td>-8.310622e-17</td>\n",
              "      <td>-8.845502e-16</td>\n",
              "      <td>-1.789241e-15</td>\n",
              "      <td>-1.542079e-16</td>\n",
              "      <td>8.046919e-16</td>\n",
              "      <td>-2.547965e-16</td>\n",
              "      <td>-4.550555e-16</td>\n",
              "      <td>2.754870e-16</td>\n",
              "      <td>1.685077e-17</td>\n",
              "      <td>1.478472e-15</td>\n",
              "      <td>-6.797197e-16</td>\n",
              "      <td>1.234659e-16</td>\n",
              "      <td>-7.659279e-16</td>\n",
              "      <td>3.247603e-16</td>\n",
              "      <td>-2.953495e-18</td>\n",
              "      <td>5.401572e-17</td>\n",
              "      <td>3.202236e-16</td>\n",
              "    </tr>\n",
              "    <tr>\n",
              "      <th>std</th>\n",
              "      <td>1.000002e+00</td>\n",
              "      <td>1.000002e+00</td>\n",
              "      <td>1.000002e+00</td>\n",
              "      <td>1.000002e+00</td>\n",
              "      <td>1.000002e+00</td>\n",
              "      <td>1.000002e+00</td>\n",
              "      <td>1.000002e+00</td>\n",
              "      <td>1.000002e+00</td>\n",
              "      <td>1.000002e+00</td>\n",
              "      <td>1.000002e+00</td>\n",
              "      <td>1.000002e+00</td>\n",
              "      <td>1.000002e+00</td>\n",
              "      <td>1.000002e+00</td>\n",
              "      <td>1.000002e+00</td>\n",
              "      <td>1.000002e+00</td>\n",
              "      <td>1.000002e+00</td>\n",
              "      <td>1.000002e+00</td>\n",
              "      <td>1.000002e+00</td>\n",
              "      <td>1.000002e+00</td>\n",
              "      <td>1.000002e+00</td>\n",
              "      <td>1.000002e+00</td>\n",
              "      <td>1.000002e+00</td>\n",
              "      <td>1.000002e+00</td>\n",
              "      <td>1.000002e+00</td>\n",
              "      <td>1.000002e+00</td>\n",
              "      <td>1.000002e+00</td>\n",
              "      <td>1.000002e+00</td>\n",
              "      <td>1.000002e+00</td>\n",
              "      <td>1.000002e+00</td>\n",
              "      <td>1.000002e+00</td>\n",
              "    </tr>\n",
              "    <tr>\n",
              "      <th>min</th>\n",
              "      <td>-1.996583e+00</td>\n",
              "      <td>-2.879855e+01</td>\n",
              "      <td>-4.403529e+01</td>\n",
              "      <td>-3.187173e+01</td>\n",
              "      <td>-4.013919e+00</td>\n",
              "      <td>-8.240810e+01</td>\n",
              "      <td>-1.963606e+01</td>\n",
              "      <td>-3.520940e+01</td>\n",
              "      <td>-6.130252e+01</td>\n",
              "      <td>-1.222802e+01</td>\n",
              "      <td>-2.258191e+01</td>\n",
              "      <td>-4.700128e+00</td>\n",
              "      <td>-1.869868e+01</td>\n",
              "      <td>-5.819392e+00</td>\n",
              "      <td>-2.004428e+01</td>\n",
              "      <td>-4.915191e+00</td>\n",
              "      <td>-1.612534e+01</td>\n",
              "      <td>-2.962645e+01</td>\n",
              "      <td>-1.133266e+01</td>\n",
              "      <td>-8.861402e+00</td>\n",
              "      <td>-7.069146e+01</td>\n",
              "      <td>-4.741907e+01</td>\n",
              "      <td>-1.506565e+01</td>\n",
              "      <td>-7.175446e+01</td>\n",
              "      <td>-4.683638e+00</td>\n",
              "      <td>-1.975033e+01</td>\n",
              "      <td>-5.401098e+00</td>\n",
              "      <td>-5.590660e+01</td>\n",
              "      <td>-4.674612e+01</td>\n",
              "      <td>-3.532294e-01</td>\n",
              "    </tr>\n",
              "    <tr>\n",
              "      <th>25%</th>\n",
              "      <td>-8.552120e-01</td>\n",
              "      <td>-4.698918e-01</td>\n",
              "      <td>-3.624707e-01</td>\n",
              "      <td>-5.872142e-01</td>\n",
              "      <td>-5.993788e-01</td>\n",
              "      <td>-5.010686e-01</td>\n",
              "      <td>-5.766822e-01</td>\n",
              "      <td>-4.478860e-01</td>\n",
              "      <td>-1.746805e-01</td>\n",
              "      <td>-5.853631e-01</td>\n",
              "      <td>-4.917360e-01</td>\n",
              "      <td>-7.470224e-01</td>\n",
              "      <td>-4.058964e-01</td>\n",
              "      <td>-6.516198e-01</td>\n",
              "      <td>-4.439565e-01</td>\n",
              "      <td>-6.368132e-01</td>\n",
              "      <td>-5.341353e-01</td>\n",
              "      <td>-5.695609e-01</td>\n",
              "      <td>-5.951621e-01</td>\n",
              "      <td>-5.605369e-01</td>\n",
              "      <td>-2.746334e-01</td>\n",
              "      <td>-3.109433e-01</td>\n",
              "      <td>-7.473476e-01</td>\n",
              "      <td>-2.591784e-01</td>\n",
              "      <td>-5.854676e-01</td>\n",
              "      <td>-6.084001e-01</td>\n",
              "      <td>-6.780717e-01</td>\n",
              "      <td>-1.755053e-01</td>\n",
              "      <td>-1.604440e-01</td>\n",
              "      <td>-3.308401e-01</td>\n",
              "    </tr>\n",
              "    <tr>\n",
              "      <th>50%</th>\n",
              "      <td>-2.131453e-01</td>\n",
              "      <td>9.245351e-03</td>\n",
              "      <td>3.965683e-02</td>\n",
              "      <td>1.186124e-01</td>\n",
              "      <td>-1.401724e-02</td>\n",
              "      <td>-3.936682e-02</td>\n",
              "      <td>-2.058046e-01</td>\n",
              "      <td>3.241723e-02</td>\n",
              "      <td>1.871982e-02</td>\n",
              "      <td>-4.681169e-02</td>\n",
              "      <td>-8.533551e-02</td>\n",
              "      <td>-3.209268e-02</td>\n",
              "      <td>1.401448e-01</td>\n",
              "      <td>-1.363250e-02</td>\n",
              "      <td>5.278702e-02</td>\n",
              "      <td>5.251917e-02</td>\n",
              "      <td>7.579255e-02</td>\n",
              "      <td>-7.732604e-02</td>\n",
              "      <td>-4.338370e-03</td>\n",
              "      <td>4.588014e-03</td>\n",
              "      <td>-8.104705e-02</td>\n",
              "      <td>-4.009429e-02</td>\n",
              "      <td>9.345377e-03</td>\n",
              "      <td>-1.792420e-02</td>\n",
              "      <td>6.765678e-02</td>\n",
              "      <td>3.183240e-02</td>\n",
              "      <td>-1.081217e-01</td>\n",
              "      <td>3.325174e-03</td>\n",
              "      <td>3.406368e-02</td>\n",
              "      <td>-2.652715e-01</td>\n",
              "    </tr>\n",
              "    <tr>\n",
              "      <th>75%</th>\n",
              "      <td>9.372174e-01</td>\n",
              "      <td>6.716939e-01</td>\n",
              "      <td>4.867202e-01</td>\n",
              "      <td>6.774569e-01</td>\n",
              "      <td>5.250082e-01</td>\n",
              "      <td>4.433465e-01</td>\n",
              "      <td>2.991625e-01</td>\n",
              "      <td>4.611107e-01</td>\n",
              "      <td>2.740785e-01</td>\n",
              "      <td>5.435305e-01</td>\n",
              "      <td>4.168842e-01</td>\n",
              "      <td>7.245863e-01</td>\n",
              "      <td>6.187332e-01</td>\n",
              "      <td>6.656518e-01</td>\n",
              "      <td>5.144513e-01</td>\n",
              "      <td>7.088502e-01</td>\n",
              "      <td>5.971989e-01</td>\n",
              "      <td>4.705737e-01</td>\n",
              "      <td>5.974968e-01</td>\n",
              "      <td>5.637928e-01</td>\n",
              "      <td>1.725733e-01</td>\n",
              "      <td>2.537392e-01</td>\n",
              "      <td>7.283360e-01</td>\n",
              "      <td>2.364319e-01</td>\n",
              "      <td>7.257153e-01</td>\n",
              "      <td>6.728006e-01</td>\n",
              "      <td>4.996663e-01</td>\n",
              "      <td>2.255648e-01</td>\n",
              "      <td>2.371526e-01</td>\n",
              "      <td>-4.471707e-02</td>\n",
              "    </tr>\n",
              "    <tr>\n",
              "      <th>max</th>\n",
              "      <td>1.642058e+00</td>\n",
              "      <td>1.253351e+00</td>\n",
              "      <td>1.335775e+01</td>\n",
              "      <td>6.187993e+00</td>\n",
              "      <td>1.191874e+01</td>\n",
              "      <td>2.521413e+01</td>\n",
              "      <td>5.502015e+01</td>\n",
              "      <td>9.747824e+01</td>\n",
              "      <td>1.675153e+01</td>\n",
              "      <td>1.419494e+01</td>\n",
              "      <td>2.180758e+01</td>\n",
              "      <td>1.177504e+01</td>\n",
              "      <td>7.854679e+00</td>\n",
              "      <td>7.160735e+00</td>\n",
              "      <td>1.098147e+01</td>\n",
              "      <td>9.699117e+00</td>\n",
              "      <td>1.976044e+01</td>\n",
              "      <td>1.089502e+01</td>\n",
              "      <td>6.014342e+00</td>\n",
              "      <td>6.869414e+00</td>\n",
              "      <td>5.113464e+01</td>\n",
              "      <td>3.703471e+01</td>\n",
              "      <td>1.447304e+01</td>\n",
              "      <td>3.607668e+01</td>\n",
              "      <td>7.569684e+00</td>\n",
              "      <td>1.442532e+01</td>\n",
              "      <td>7.293975e+00</td>\n",
              "      <td>7.831940e+01</td>\n",
              "      <td>1.025434e+02</td>\n",
              "      <td>1.023622e+02</td>\n",
              "    </tr>\n",
              "  </tbody>\n",
              "</table>\n",
              "</div>"
            ],
            "text/plain": [
              "                 0             1   ...            28            29\n",
              "count  2.848070e+05  2.848070e+05  ...  2.848070e+05  2.848070e+05\n",
              "mean  -1.050379e-14 -8.157366e-16  ...  5.401572e-17  3.202236e-16\n",
              "std    1.000002e+00  1.000002e+00  ...  1.000002e+00  1.000002e+00\n",
              "min   -1.996583e+00 -2.879855e+01  ... -4.674612e+01 -3.532294e-01\n",
              "25%   -8.552120e-01 -4.698918e-01  ... -1.604440e-01 -3.308401e-01\n",
              "50%   -2.131453e-01  9.245351e-03  ...  3.406368e-02 -2.652715e-01\n",
              "75%    9.372174e-01  6.716939e-01  ...  2.371526e-01 -4.471707e-02\n",
              "max    1.642058e+00  1.253351e+00  ...  1.025434e+02  1.023622e+02\n",
              "\n",
              "[8 rows x 30 columns]"
            ]
          },
          "metadata": {
            "tags": []
          },
          "execution_count": 12
        }
      ]
    },
    {
      "cell_type": "markdown",
      "metadata": {
        "id": "CCRmQwN15DjN"
      },
      "source": [
        "Exploring the data set has revealed that there are not any null values or empty cells; therefore, this is not addressed during the preprocessing. Additionally, we can see that there are some duplicate data in our dataset. However, this could potentially help flag up fraudulent transactions, and it could be representative of transactions in the real world which is why I didn't remove the duplicated data. \n",
        "\n",
        "We have looked at the distribution of input variables through the plotting of histograms. From looking at the histograms, we can see that the distribution of most of the PCA components is Gaussian and a lot of them appear centred around zero as well. This suggests that the variables could have been standardised as part of transforming them through PCA."
      ]
    },
    {
      "cell_type": "markdown",
      "metadata": {
        "id": "sktLfdcthARO"
      },
      "source": [
        "### Classification models"
      ]
    },
    {
      "cell_type": "code",
      "metadata": {
        "id": "8r4TbLrNJMe1"
      },
      "source": [
        "from sklearn.model_selection import train_test_split\n",
        "\n",
        "#Splitting X into 60% train data and 40% test data\n",
        "\n",
        "X_train, X_test, y_train, y_test = train_test_split(X, Y,random_state=0, train_size = 0.6)\n"
      ],
      "execution_count": 13,
      "outputs": []
    },
    {
      "cell_type": "code",
      "metadata": {
        "colab": {
          "base_uri": "https://localhost:8080/"
        },
        "id": "pZCxa7CwuINZ",
        "outputId": "abeb54d2-66c3-4efd-a51c-2fd834818a11"
      },
      "source": [
        "from sklearn.metrics import plot_precision_recall_curve\n",
        "from sklearn.metrics import classification_report\n",
        "\n",
        "#Using cross validation with 10 folds \n",
        "\n",
        "from sklearn.model_selection import KFold, cross_val_predict\n",
        "cross_val = KFold(n_splits = 10, random_state= 10, shuffle = False)"
      ],
      "execution_count": 14,
      "outputs": [
        {
          "output_type": "stream",
          "text": [
            "/usr/local/lib/python3.7/dist-packages/sklearn/model_selection/_split.py:296: FutureWarning: Setting a random_state has no effect since shuffle is False. This will raise an error in 0.24. You should leave random_state to its default (None), or set shuffle=True.\n",
            "  FutureWarning\n"
          ],
          "name": "stderr"
        }
      ]
    },
    {
      "cell_type": "markdown",
      "metadata": {
        "id": "Tv6R6Pplhm12"
      },
      "source": [
        "SVC"
      ]
    },
    {
      "cell_type": "code",
      "metadata": {
        "id": "tcmewM83Sha3",
        "colab": {
          "base_uri": "https://localhost:8080/"
        },
        "outputId": "80a95f21-92e3-40e9-9893-d3fbe4097338"
      },
      "source": [
        "from sklearn.svm import SVC\n",
        "\n",
        "\n",
        "\n",
        "#Training the SVC model on train data\n",
        "svc = SVC()\n",
        "svc.fit(X_train, y_train)\n",
        "y_pred_svc = cross_val_predict(svc, X_train, y_train, cv = cross_val)\n",
        "\n",
        "#Returning the confusion matrix and classification report\n",
        "cm_svc = pd.crosstab(y_pred_svc, y_train, rownames = ['pred'], colnames = ['true'], margins = True)\n",
        "report_svc = classification_report(y_train, y_pred_svc, labels = [0, 1])\n",
        "print(cm_svc, '\\n\\n', report_svc)\n"
      ],
      "execution_count": 15,
      "outputs": [
        {
          "output_type": "stream",
          "text": [
            "true       0    1     All\n",
            "pred                     \n",
            "0     170580  113  170693\n",
            "1         11  180     191\n",
            "All   170591  293  170884 \n",
            "\n",
            "               precision    recall  f1-score   support\n",
            "\n",
            "           0       1.00      1.00      1.00    170591\n",
            "           1       0.94      0.61      0.74       293\n",
            "\n",
            "    accuracy                           1.00    170884\n",
            "   macro avg       0.97      0.81      0.87    170884\n",
            "weighted avg       1.00      1.00      1.00    170884\n",
            "\n"
          ],
          "name": "stdout"
        }
      ]
    },
    {
      "cell_type": "code",
      "metadata": {
        "id": "uAaxifDRrQlO",
        "colab": {
          "base_uri": "https://localhost:8080/",
          "height": 1000
        },
        "outputId": "b6c49bab-03dc-4674-ce6c-3286be21991d"
      },
      "source": [
        "\n",
        "#Plotting the precision recall curve with the average precision\n",
        "plot_precision_recall_curve(svc, X_test, y_test, name = 'SVC')"
      ],
      "execution_count": 16,
      "outputs": [
        {
          "output_type": "execute_result",
          "data": {
            "text/plain": [
              "<sklearn.metrics._plot.precision_recall_curve.PrecisionRecallDisplay at 0x7faa31568950>"
            ]
          },
          "metadata": {
            "tags": []
          },
          "execution_count": 16
        },
        {
          "output_type": "display_data",
          "data": {
            "image/png": "[encoded data removed]",
            "text/plain": [
              "<Figure size 1440x1440 with 1 Axes>"
            ]
          },
          "metadata": {
            "tags": [],
            "needs_background": "light"
          }
        }
      ]
    },
    {
      "cell_type": "markdown",
      "metadata": {
        "id": "SZucPG36hx6y"
      },
      "source": [
        "### Logistic Regression"
      ]
    },
    {
      "cell_type": "code",
      "metadata": {
        "colab": {
          "base_uri": "https://localhost:8080/"
        },
        "id": "IgkBlX4d1xOQ",
        "outputId": "112e3369-0d75-45bc-e441-d2dc0216bab2"
      },
      "source": [
        "from sklearn.linear_model import LogisticRegression\n",
        "\n",
        "#Training the Logistic Regression model on train data\n",
        "lr = LogisticRegression()\n",
        "lr.fit(X_train, y_train)\n",
        "y_pred_lr = cross_val_predict(lr, X_train, y_train, cv = cross_val)\n",
        "\n",
        "#Returning the confusion matrix and classification report\n",
        "cm_lr = pd.crosstab(y_pred_lr, y_train, rownames = ['pred'], colnames = ['true'], margins = True)\n",
        "report_lr = classification_report(y_train, y_pred_lr, labels = [0, 1])\n",
        "print(cm_lr, '\\n\\n', report_lr)"
      ],
      "execution_count": null,
      "outputs": [
        {
          "output_type": "stream",
          "text": [
            "true       0    1     All\n",
            "pred                     \n",
            "0     170564  112  170676\n",
            "1         27  181     208\n",
            "All   170591  293  170884 \n",
            "\n",
            "               precision    recall  f1-score   support\n",
            "\n",
            "           0       1.00      1.00      1.00    170591\n",
            "           1       0.87      0.62      0.72       293\n",
            "\n",
            "    accuracy                           1.00    170884\n",
            "   macro avg       0.93      0.81      0.86    170884\n",
            "weighted avg       1.00      1.00      1.00    170884\n",
            "\n"
          ],
          "name": "stdout"
        }
      ]
    },
    {
      "cell_type": "code",
      "metadata": {
        "id": "xlxDX6MA1xS-",
        "colab": {
          "base_uri": "https://localhost:8080/",
          "height": 1000
        },
        "outputId": "3cad7acc-6e2b-4dd2-a091-5cadab438382"
      },
      "source": [
        "#Plotting the precision recall curve with the average precision\n",
        "plot_precision_recall_curve(lr, X_test, y_test, name = 'Logistic Regression')"
      ],
      "execution_count": null,
      "outputs": [
        {
          "output_type": "execute_result",
          "data": {
            "text/plain": [
              "<sklearn.metrics._plot.precision_recall_curve.PrecisionRecallDisplay at 0x7fa43a7eb710>"
            ]
          },
          "metadata": {
            "tags": []
          },
          "execution_count": 28
        },
        {
          "output_type": "display_data",
          "data": {
            "image/png": "[encoded data removed]",
            "text/plain": [
              "<Figure size 1440x1440 with 1 Axes>"
            ]
          },
          "metadata": {
            "tags": [],
            "needs_background": "light"
          }
        }
      ]
    },
    {
      "cell_type": "code",
      "metadata": {
        "colab": {
          "base_uri": "https://localhost:8080/"
        },
        "id": "V2DZ8F6h1xXa",
        "outputId": "32976f7a-179e-44fa-cc48-c64b30883a45"
      },
      "source": [
        "\n",
        "from sklearn.ensemble import RandomForestClassifier\n",
        "#Training the Random Forest model on train data\n",
        "rfc = RandomForestClassifier()\n",
        "rfc.fit(X_train, y_train)\n",
        "y_pred_rfc = cross_val_predict(rfc, X_train, y_train, cv = cross_val)\n",
        "\n",
        "#Returning the confusion matrix and classification report\n",
        "cm_rfc = pd.crosstab(y_pred_rfc, y_train, rownames = ['pred'], colnames = ['true'], margins = True)\n",
        "report_rfc = classification_report(y_train, y_pred_rfc, labels = [0, 1])\n",
        "print(cm_rfc, '\\n\\n', report_rfc)"
      ],
      "execution_count": null,
      "outputs": [
        {
          "output_type": "stream",
          "text": [
            "true       0    1     All\n",
            "pred                     \n",
            "0     170577   69  170646\n",
            "1         14  224     238\n",
            "All   170591  293  170884 \n",
            "\n",
            "               precision    recall  f1-score   support\n",
            "\n",
            "           0       1.00      1.00      1.00    170591\n",
            "           1       0.94      0.76      0.84       293\n",
            "\n",
            "    accuracy                           1.00    170884\n",
            "   macro avg       0.97      0.88      0.92    170884\n",
            "weighted avg       1.00      1.00      1.00    170884\n",
            "\n"
          ],
          "name": "stdout"
        }
      ]
    },
    {
      "cell_type": "code",
      "metadata": {
        "colab": {
          "base_uri": "https://localhost:8080/",
          "height": 1000
        },
        "id": "rOScQ6dj4zqB",
        "outputId": "a4c99745-3f73-4189-ec75-e29df75f0713"
      },
      "source": [
        "#Plotting the precision recall curve with the average precision\n",
        "plot_precision_recall_curve(rfc, X_test, y_test, name = 'Random Forest')"
      ],
      "execution_count": null,
      "outputs": [
        {
          "output_type": "execute_result",
          "data": {
            "text/plain": [
              "<sklearn.metrics._plot.precision_recall_curve.PrecisionRecallDisplay at 0x7fa43985e890>"
            ]
          },
          "metadata": {
            "tags": []
          },
          "execution_count": 20
        },
        {
          "output_type": "display_data",
          "data": {
            "image/png": "[encoded data removed]",
            "text/plain": [
              "<Figure size 1440x1440 with 1 Axes>"
            ]
          },
          "metadata": {
            "tags": [],
            "needs_background": "light"
          }
        }
      ]
    },
    {
      "cell_type": "code",
      "metadata": {
        "colab": {
          "base_uri": "https://localhost:8080/"
        },
        "id": "3RpD2lVj5ybO",
        "outputId": "e393acef-a5cd-4ced-9cec-864720519106"
      },
      "source": [
        "from sklearn.tree import DecisionTreeClassifier\n",
        "#Training the Decision Tree Classifier model on train data\n",
        "dtc = DecisionTreeClassifier()\n",
        "dtc.fit(X_train, y_train)\n",
        "y_pred_dtc = cross_val_predict(dtc, X_train, y_train, cv = cross_val)\n",
        "\n",
        "#Returning the confusion matrix and classification report\n",
        "cm_dtc = pd.crosstab(y_pred_dtc, y_train, rownames = ['pred'], colnames = ['true'], margins = True)\n",
        "report_dtc = classification_report(y_train, y_pred_dtc, labels = [0, 1])\n",
        "print(cm_dtc, '\\n\\n', report_dtc)"
      ],
      "execution_count": null,
      "outputs": [
        {
          "output_type": "stream",
          "text": [
            "true       0    1     All\n",
            "pred                     \n",
            "0     170515   80  170595\n",
            "1         76  213     289\n",
            "All   170591  293  170884 \n",
            "\n",
            "               precision    recall  f1-score   support\n",
            "\n",
            "           0       1.00      1.00      1.00    170591\n",
            "           1       0.74      0.73      0.73       293\n",
            "\n",
            "    accuracy                           1.00    170884\n",
            "   macro avg       0.87      0.86      0.87    170884\n",
            "weighted avg       1.00      1.00      1.00    170884\n",
            "\n"
          ],
          "name": "stdout"
        }
      ]
    },
    {
      "cell_type": "code",
      "metadata": {
        "colab": {
          "base_uri": "https://localhost:8080/",
          "height": 1000
        },
        "id": "ty-2-TAS9ceu",
        "outputId": "ba8f1109-874b-4e09-e34d-5ff15689801f"
      },
      "source": [
        "#Plotting the precision recall curve with the average precision\n",
        "plot_precision_recall_curve(dtc, X_test, y_test, name = 'Decision Tree')"
      ],
      "execution_count": null,
      "outputs": [
        {
          "output_type": "execute_result",
          "data": {
            "text/plain": [
              "<sklearn.metrics._plot.precision_recall_curve.PrecisionRecallDisplay at 0x7f0744bd1990>"
            ]
          },
          "metadata": {
            "tags": []
          },
          "execution_count": 22
        },
        {
          "output_type": "display_data",
          "data": {
            "image/png": "[encoded data removed]",
            "text/plain": [
              "<Figure size 1440x1440 with 1 Axes>"
            ]
          },
          "metadata": {
            "tags": []
          }
        }
      ]
    },
    {
      "cell_type": "code",
      "metadata": {
        "colab": {
          "base_uri": "https://localhost:8080/"
        },
        "id": "8q8_Ccyy9chR",
        "outputId": "f3b39ef9-5220-4cb4-b5f6-c3aa09c0dc24"
      },
      "source": [
        "from sklearn.linear_model.ridge import RidgeClassifier\n",
        "#Training the Ridge Classifier model on train data\n",
        "rc = RidgeClassifier()\n",
        "rc.fit(X_train, y_train)\n",
        "y_pred_rc = cross_val_predict(rc, X_train, y_train, cv = cross_val)\n",
        "\n",
        "#Returning the confusion matrix and classification report\n",
        "cm_rc = pd.crosstab(y_pred_rc, y_train, rownames = ['pred'], colnames = ['true'], margins = True)\n",
        "report_rc = classification_report(y_train, y_pred_rc, labels = [0, 1])\n",
        "print(cm_rc, '\\n\\n', report_rc)"
      ],
      "execution_count": null,
      "outputs": [
        {
          "output_type": "stream",
          "text": [
            "/usr/local/lib/python3.7/dist-packages/sklearn/utils/deprecation.py:144: FutureWarning: The sklearn.linear_model.ridge module is  deprecated in version 0.22 and will be removed in version 0.24. The corresponding classes / functions should instead be imported from sklearn.linear_model. Anything that cannot be imported from sklearn.linear_model is now part of the private API.\n",
            "  warnings.warn(message, FutureWarning)\n"
          ],
          "name": "stderr"
        },
        {
          "output_type": "stream",
          "text": [
            "true       0    1     All\n",
            "pred                     \n",
            "0     170565  171  170736\n",
            "1         26  122     148\n",
            "All   170591  293  170884 \n",
            "\n",
            "               precision    recall  f1-score   support\n",
            "\n",
            "           0       1.00      1.00      1.00    170591\n",
            "           1       0.82      0.42      0.55       293\n",
            "\n",
            "    accuracy                           1.00    170884\n",
            "   macro avg       0.91      0.71      0.78    170884\n",
            "weighted avg       1.00      1.00      1.00    170884\n",
            "\n"
          ],
          "name": "stdout"
        }
      ]
    },
    {
      "cell_type": "code",
      "metadata": {
        "colab": {
          "base_uri": "https://localhost:8080/",
          "height": 1000
        },
        "id": "LBgoGo7T-U2L",
        "outputId": "23607d06-856d-4a4e-f36a-c7a9479af55f"
      },
      "source": [
        "#Plotting the precision recall curve with the average precision\n",
        "plot_precision_recall_curve(rc, X_test, y_test, name = 'Ridge Classifier')"
      ],
      "execution_count": null,
      "outputs": [
        {
          "output_type": "execute_result",
          "data": {
            "text/plain": [
              "<sklearn.metrics._plot.precision_recall_curve.PrecisionRecallDisplay at 0x7f0743434810>"
            ]
          },
          "metadata": {
            "tags": []
          },
          "execution_count": 24
        },
        {
          "output_type": "display_data",
          "data": {
            "image/png": "[encoded data removed]",
            "text/plain": [
              "<Figure size 1440x1440 with 1 Axes>"
            ]
          },
          "metadata": {
            "tags": []
          }
        }
      ]
    },
    {
      "cell_type": "markdown",
      "metadata": {
        "id": "yo0gI9uXkybV"
      },
      "source": [
        "KNN"
      ]
    },
    {
      "cell_type": "code",
      "metadata": {
        "id": "jtgytLbD-WY5"
      },
      "source": [
        "from sklearn.neighbors import KNeighborsClassifier\n",
        "#Training the KNeighbours Classifier model on train data\n",
        "knn = KNeighborsClassifier()\n",
        "knn.fit(X_train, y_train)\n",
        "y_pred_knn = cross_val_predict(knn, X_train, y_train, cv = cross_val)\n",
        "\n",
        "#Returning the confusion matrix and classification report\n",
        "cm_knn = pd.crosstab(y_pred_knn, y_train, rownames = ['pred'], colnames = ['true'], margins = True)\n",
        "report_knn = classification_report(y_train, y_pred_knn, labels = [0, 1])\n",
        "print(cm_knn, '\\n\\n', report_knn)\n"
      ],
      "execution_count": null,
      "outputs": []
    },
    {
      "cell_type": "code",
      "metadata": {
        "colab": {
          "base_uri": "https://localhost:8080/",
          "height": 1000
        },
        "id": "LD8WdcTCj4LK",
        "outputId": "55d8f8ad-9f80-4740-c1b5-79b87147eef6"
      },
      "source": [
        "#Plotting the precision recall curve with the average precision\n",
        "plot_precision_recall_curve(knn, X_test, y_test, name = 'KNeighbours Classifier')"
      ],
      "execution_count": null,
      "outputs": [
        {
          "output_type": "execute_result",
          "data": {
            "text/plain": [
              "<sklearn.metrics._plot.precision_recall_curve.PrecisionRecallDisplay at 0x7f074589fdd0>"
            ]
          },
          "metadata": {
            "tags": []
          },
          "execution_count": 27
        },
        {
          "output_type": "display_data",
          "data": {
            "image/png": "[encoded data removed]",
            "text/plain": [
              "<Figure size 1440x1440 with 1 Axes>"
            ]
          },
          "metadata": {
            "tags": []
          }
        }
      ]
    },
    {
      "cell_type": "markdown",
      "metadata": {
        "id": "bpMosVi3JIh6"
      },
      "source": [
        "From the above we can see that the random forest model produces the highest average precision when exposed to new data, making it our most accurate model. Even though some of the other models (e.g. Logistic Regression) have returned higher precision for positive fraudulent transactions when looking at the confusion matrix, I have chosen to use auc and precision recall because confusion matrix accuracy is not meaningful for imbalanced datasets."
      ]
    },
    {
      "cell_type": "markdown",
      "metadata": {
        "id": "-s1vIMF3NVmB"
      },
      "source": [
        "### PCA"
      ]
    },
    {
      "cell_type": "code",
      "metadata": {
        "id": "kilKrrwfJMe2",
        "colab": {
          "base_uri": "https://localhost:8080/",
          "height": 1000
        },
        "outputId": "ef27bbc1-a84a-47b1-fd3a-d45b0f37a4e6"
      },
      "source": [
        "import seaborn as sns\n",
        "from sklearn.decomposition import PCA, FactorAnalysis\n",
        "\n",
        "#Splitting the data so that we can run a pca on V1-28\n",
        "cols = [\t\"V1\", \"V2\",\t\"V3\",\t\"V4\",\t\"V5\",\t\"V6\",\t\"V7\",\t\"V8\",\t\"V9\",\t'V10',\t'V11',\t'V12',\t'V13',\t'V14',\t\"V15\",\t\"V16\",\t\"V17\",\n",
        "        'V18',\t\"V19\",\t\"V20\",\t\"V21\",\t\"V22\",\t\"V23\",\t\"V24\",\t\"V25\",\t\"V26\",\t\"V27\",\t\"V28\"]\n",
        "data_x_pca = creditcard[creditcard.columns.difference([\"Class\", \"Amount\", \"Time\"])]\n",
        "data_x_pca = data_x_pca[cols]\n",
        "\n",
        "#Running PCA on the data\n",
        "pca = PCA()\n",
        "data_x_pca = pca.fit(data_x_pca)\n",
        "pca_components = pca.components_\n",
        "\n",
        "#Print the explained variance ratios for each principle component \n",
        "print(\"explained variance ratio:\\n\\n\", pca.explained_variance_ratio_)\n",
        "\n",
        "var_ratio = pd.DataFrame({'Explained Variance':pca.explained_variance_ratio_,\n",
        "             'Principle Components':['1','2','3','4','5','6','7','8','9','10','11','12','13','14','15','16','17','18',\n",
        "             '19','20',\"21\",\t\"22\",\t\"23\",\t\"24\",\t\"25\",\t\"26\",\t\"27\",\t\"28\"]})\n",
        "\n",
        "#Plot explained variance for each principle component\n",
        "sns.barplot(x = 'Principle Components', y = 'Explained Variance', data=var_ratio);"
      ],
      "execution_count": null,
      "outputs": [
        {
          "output_type": "stream",
          "text": [
            "explained variance ratio:\n",
            "\n",
            " [0.12483757 0.08872945 0.07480934 0.06523148 0.06199045 0.05775592\n",
            " 0.04979852 0.04641696 0.03927497 0.03857867 0.03390148 0.03248758\n",
            " 0.03223271 0.02990076 0.02726173 0.02498448 0.02347316 0.0228603\n",
            " 0.02156271 0.01933907 0.01755591 0.01713671 0.01268881 0.01193577\n",
            " 0.00884199 0.00756684 0.00530131 0.00354534]\n"
          ],
          "name": "stdout"
        },
        {
          "output_type": "display_data",
          "data": {
            "image/png": "[encoded data removed]",
            "text/plain": [
              "<Figure size 1440x1440 with 1 Axes>"
            ]
          },
          "metadata": {
            "tags": [],
            "needs_background": "light"
          }
        }
      ]
    },
    {
      "cell_type": "code",
      "metadata": {
        "id": "dpTQ0h0TJMe4",
        "colab": {
          "base_uri": "https://localhost:8080/",
          "height": 421
        },
        "outputId": "54c8e880-312c-498b-abb8-3734067c29fd"
      },
      "source": [
        "#Plotting a graph to show the cumulitive explained variance everytime we add a principle component\n",
        "cum_var = np.cumsum(pca.explained_variance_ratio_)*100\n",
        "ex = [n for n in range(len(cum_var+1))]\n",
        "plt.figure(figsize=(12, 6))\n",
        "plt.plot(ex,cum_var, color = 'b',label='cumulative explained variance')\n",
        "plt.axhline(y = 90, color='purple', linestyle='--', label = '90% Explained Variance ')\n",
        "plt.axvline(x = 18, color='green', linestyle='--', label = '18 Principle Components')\n",
        "plt.title('Cumulutive Explained variance vs PCA')\n",
        "plt.ylabel('Cumulative Explained variance')\n",
        "plt.xlabel('Number of principal components')\n",
        "\n",
        "\n",
        "plt.legend(loc='best')"
      ],
      "execution_count": null,
      "outputs": [
        {
          "output_type": "execute_result",
          "data": {
            "text/plain": [
              "<matplotlib.legend.Legend at 0x7fa43a313650>"
            ]
          },
          "metadata": {
            "tags": []
          },
          "execution_count": 22
        },
        {
          "output_type": "display_data",
          "data": {
            "image/png": "[encoded data removed]",
            "text/plain": [
              "<Figure size 864x432 with 1 Axes>"
            ]
          },
          "metadata": {
            "tags": [],
            "needs_background": "light"
          }
        }
      ]
    },
    {
      "cell_type": "markdown",
      "metadata": {
        "id": "b2oOEAmTTRSQ"
      },
      "source": [
        "From the above graph we can see that of the 28 principle components that were provided in the initial data set, we need 18 principle components to account for roughly 90% of the variance."
      ]
    },
    {
      "cell_type": "markdown",
      "metadata": {
        "id": "W4J-z4x0TD1A"
      },
      "source": [
        "### Balancing the data set"
      ]
    },
    {
      "cell_type": "code",
      "metadata": {
        "colab": {
          "base_uri": "https://localhost:8080/"
        },
        "id": "Jz2TAXjRSy7K",
        "outputId": "b8a6a95e-2898-4d4c-f61d-8604f8d6a0bf"
      },
      "source": [
        "from imblearn.over_sampling import SMOTE\n",
        "\n",
        "#We are using SMOTE over_sampling to have a more even data set of fraudulent vs non fraudulent transactions\n",
        "data_x_over = X\n",
        "data_y_over = Y\n",
        "\n",
        "over = SMOTE()\n",
        "data_x_over, data_y_over = over.fit_resample(data_x_over, data_y_over)\n",
        "data_y_over = pd.DataFrame(data_y_over)\n",
        "\n",
        "#Print the number of fraud vs non fraud values\n",
        "print(data_y_over[0].value_counts())"
      ],
      "execution_count": null,
      "outputs": [
        {
          "output_type": "stream",
          "text": [
            "/usr/local/lib/python3.7/dist-packages/sklearn/externals/six.py:31: FutureWarning: The module is deprecated in version 0.21 and will be removed in version 0.23 since we've dropped support for Python 2.7. Please rely on the official version of six (https://pypi.org/project/six/).\n",
            "  \"(https://pypi.org/project/six/).\", FutureWarning)\n",
            "/usr/local/lib/python3.7/dist-packages/sklearn/utils/deprecation.py:144: FutureWarning: The sklearn.neighbors.base module is  deprecated in version 0.22 and will be removed in version 0.24. The corresponding classes / functions should instead be imported from sklearn.neighbors. Anything that cannot be imported from sklearn.neighbors is now part of the private API.\n",
            "  warnings.warn(message, FutureWarning)\n",
            "/usr/local/lib/python3.7/dist-packages/sklearn/utils/deprecation.py:87: FutureWarning: Function safe_indexing is deprecated; safe_indexing is deprecated in version 0.22 and will be removed in version 0.24.\n",
            "  warnings.warn(msg, category=FutureWarning)\n"
          ],
          "name": "stderr"
        },
        {
          "output_type": "stream",
          "text": [
            "1    284315\n",
            "0    284315\n",
            "Name: 0, dtype: int64\n"
          ],
          "name": "stdout"
        }
      ]
    },
    {
      "cell_type": "code",
      "metadata": {
        "id": "si-eDb3bTOis"
      },
      "source": [
        "#Split the changed/ oversampled dataset into 60% train and 40% test datat\n",
        "x_over_train, x_over_test, y_over_train, y_over_test = train_test_split(data_x_over, data_y_over, train_size =0.6 )"
      ],
      "execution_count": null,
      "outputs": []
    },
    {
      "cell_type": "code",
      "metadata": {
        "colab": {
          "base_uri": "https://localhost:8080/"
        },
        "id": "v33YtDMRVvZj",
        "outputId": "ec2c757c-c795-4412-c172-891b2047c4a6"
      },
      "source": [
        "#Fitting the Random Forest Classification model onto the over sampled data and reshaping it\n",
        "rfc.fit(x_over_train, y_over_train)\n",
        "y_pred_over = rfc.predict(x_over_test)\n",
        "y_pred_over = np.array(y_pred_over)\n",
        "y_over_test = np.array(y_over_test)\n",
        "y_over_test = y_over_test.reshape(-1,)"
      ],
      "execution_count": null,
      "outputs": [
        {
          "output_type": "stream",
          "text": [
            "/usr/local/lib/python3.7/dist-packages/ipykernel_launcher.py:2: DataConversionWarning: A column-vector y was passed when a 1d array was expected. Please change the shape of y to (n_samples,), for example using ravel().\n",
            "  \n"
          ],
          "name": "stderr"
        }
      ]
    },
    {
      "cell_type": "code",
      "metadata": {
        "colab": {
          "base_uri": "https://localhost:8080/"
        },
        "id": "DaY-iOx6WAT6",
        "outputId": "37d051a2-f1c0-41bd-89f8-b4da914a3315"
      },
      "source": [
        "#Returning the connfusion matrix and the classification report of the rfc fitted on the oversampled data\n",
        "cm_rfc_over = pd.crosstab(y_pred_over, y_over_test, rownames = ['pred'], colnames = ['true'], margins = True)\n",
        "report_rfc_over = classification_report(y_over_test, y_pred_over, labels = [0, 1])\n",
        "print( cm_rfc_over, '\\n\\n', report_rfc_over)"
      ],
      "execution_count": null,
      "outputs": [
        {
          "output_type": "stream",
          "text": [
            "true       0       1     All\n",
            "pred                        \n",
            "0     113506       0  113506\n",
            "1         45  113901  113946\n",
            "All   113551  113901  227452 \n",
            "\n",
            "               precision    recall  f1-score   support\n",
            "\n",
            "           0       1.00      1.00      1.00    113551\n",
            "           1       1.00      1.00      1.00    113901\n",
            "\n",
            "    accuracy                           1.00    227452\n",
            "   macro avg       1.00      1.00      1.00    227452\n",
            "weighted avg       1.00      1.00      1.00    227452\n",
            "\n"
          ],
          "name": "stdout"
        }
      ]
    },
    {
      "cell_type": "markdown",
      "metadata": {
        "id": "e7leTtyHzBww"
      },
      "source": [
        "From this example, we can see that the RFC fitted onto the oversampled data returns over 99% accuracy on the fraudulent transactions and 100% accuracy on the non-fraudulent transactions. The confusion matrix has shown that out of 113946 positive predictions, only 45 were false positives, and there were no false negatives recorded. This is also beneficial because when dealing with fraud, false positives are better than false negatives, as false negatives would mean that people have gotten away with fraud.\n",
        "\n",
        "This shows that with the aid of over_sampling, we return a much higher accuracy than the model without the oversampling. Furthermore, the classification report and confusion matrix can be used to evaluate this example as the dataset used in this scenario is balanced as opposed to the previous ones.\n",
        "\n",
        "Lastly, for over_sampling I did not compare all of the different classification models because in a real-world setting majority of credit card transactions will be non-fraudulent. Therefore, the emphasis was placed on which model would most accurately recognise fraudulent transactions in an imbalanced dataset, and then I chose to improve on this using over_sampling."
      ]
    }
  ]
}